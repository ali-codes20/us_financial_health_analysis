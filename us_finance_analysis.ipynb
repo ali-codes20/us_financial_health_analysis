{
 "cells": [
  {
   "cell_type": "code",
   "execution_count": 1,
   "source": [
    "import seaborn as sns\n",
    "import pandas as pd\n",
    "import pandas_datareader.data as web\n",
    "from datetime import datetime\n",
    "import pandas_datareader.wb as wb \n",
    "import numpy as np"
   ],
   "outputs": [],
   "metadata": {}
  },
  {
   "cell_type": "code",
   "execution_count": 2,
   "source": [
    "gold_prices = pd.read_csv(\"gold_prices.csv\")\n",
    "print(gold_prices)"
   ],
   "outputs": [
    {
     "output_type": "stream",
     "name": "stdout",
     "text": [
      "            Date         Open         High          Low        Close  \\\n",
      "0     2011-07-14  1586.300049  1592.800049  1583.599976  1589.000000   \n",
      "1     2011-07-15  1582.300049  1592.199951  1582.300049  1589.800049   \n",
      "2     2011-07-18  1592.800049  1605.000000  1592.800049  1602.099976   \n",
      "3     2011-07-19  1608.099976  1608.800049  1583.300049  1600.900024   \n",
      "4     2011-07-20  1584.300049  1596.699951  1582.400024  1596.699951   \n",
      "...          ...          ...          ...          ...          ...   \n",
      "2512  2021-07-07  1798.699951  1808.400024  1797.199951  1801.500000   \n",
      "2513  2021-07-08  1797.000000  1818.500000  1797.000000  1799.599976   \n",
      "2514  2021-07-09  1803.599976  1810.099976  1798.800049  1810.000000   \n",
      "2515  2021-07-12  1802.599976  1805.500000  1799.500000  1805.500000   \n",
      "2516  2021-07-13  1808.099976  1812.000000  1800.599976  1809.400024   \n",
      "\n",
      "        Adj Close  Volume  \n",
      "0     1589.000000    19.0  \n",
      "1     1589.800049     8.0  \n",
      "2     1602.099976    13.0  \n",
      "3     1600.900024    63.0  \n",
      "4     1596.699951     9.0  \n",
      "...           ...     ...  \n",
      "2512  1801.500000   244.0  \n",
      "2513  1799.599976   148.0  \n",
      "2514  1810.000000   218.0  \n",
      "2515  1805.500000   218.0  \n",
      "2516  1809.400024   147.0  \n",
      "\n",
      "[2517 rows x 7 columns]\n"
     ]
    }
   ],
   "metadata": {}
  },
  {
   "cell_type": "code",
   "execution_count": 3,
   "source": [
    "crude_oil_prices = pd.read_csv(\"crude_oil_prices.csv\")\n",
    "print(crude_oil_prices)"
   ],
   "outputs": [
    {
     "output_type": "stream",
     "name": "stdout",
     "text": [
      "            Date       Open       High        Low      Close  Adj Close  \\\n",
      "0     2011-07-14  97.589996  98.879997  94.529999  95.690002  95.690002   \n",
      "1     2011-07-15  96.029999  97.739998  95.209999  97.239998  97.239998   \n",
      "2     2011-07-18  97.370003  97.690002  94.690002  95.930000  95.930000   \n",
      "3     2011-07-19  96.160004  98.650002  95.930000  97.500000  97.500000   \n",
      "4     2011-07-20  98.110001  99.019997  96.639999  98.139999  98.139999   \n",
      "...          ...        ...        ...        ...        ...        ...   \n",
      "2512  2021-07-07  73.849998  74.860001  71.070000  72.199997  72.199997   \n",
      "2513  2021-07-08  72.169998  73.260002  70.760002  72.940002  72.940002   \n",
      "2514  2021-07-09  73.260002  74.760002  72.720001  74.559998  74.559998   \n",
      "2515  2021-07-12  74.739998  74.930000  73.160004  74.099998  74.099998   \n",
      "2516  2021-07-13  74.180000  75.519997  73.680000  75.250000  75.250000   \n",
      "\n",
      "        Volume  \n",
      "0     403419.0  \n",
      "1     266461.0  \n",
      "2     203973.0  \n",
      "3     138045.0  \n",
      "4     295669.0  \n",
      "...        ...  \n",
      "2512  607971.0  \n",
      "2513  529690.0  \n",
      "2514  422154.0  \n",
      "2515  422154.0  \n",
      "2516  397931.0  \n",
      "\n",
      "[2517 rows x 7 columns]\n"
     ]
    }
   ],
   "metadata": {}
  },
  {
   "cell_type": "code",
   "execution_count": 4,
   "source": [
    "start = datetime(2011,7,14)\n",
    "end = datetime(2021,7,14)\n",
    "\n",
    "nasdaq_data = web.DataReader(\"NASDAQ100\", \"fred\", start, end)\n",
    "print(nasdaq_data)\n",
    "\n",
    "sap_data = web.DataReader(\"SP500\", \"fred\", start, end)\n",
    "print(sap_data)"
   ],
   "outputs": [
    {
     "output_type": "stream",
     "name": "stdout",
     "text": [
      "            NASDAQ100\n",
      "DATE                 \n",
      "2011-07-14    2325.06\n",
      "2011-07-15    2356.67\n",
      "2011-07-18    2344.01\n",
      "2011-07-19    2398.17\n",
      "2011-07-20    2387.80\n",
      "...               ...\n",
      "2021-07-06   14786.36\n",
      "2021-07-07   14810.54\n",
      "2021-07-08   14722.14\n",
      "2021-07-09   14826.09\n",
      "2021-07-12   14877.89\n",
      "\n",
      "[2608 rows x 1 columns]\n",
      "              SP500\n",
      "DATE               \n",
      "2011-07-14  1308.87\n",
      "2011-07-15  1316.14\n",
      "2011-07-18  1305.44\n",
      "2011-07-19  1326.73\n",
      "2011-07-20  1325.84\n",
      "...             ...\n",
      "2021-07-07  4358.13\n",
      "2021-07-08  4320.82\n",
      "2021-07-09  4369.55\n",
      "2021-07-12  4384.63\n",
      "2021-07-13  4369.21\n",
      "\n",
      "[2609 rows x 1 columns]\n"
     ]
    }
   ],
   "metadata": {}
  },
  {
   "cell_type": "code",
   "execution_count": 6,
   "source": [
    "gdp_data = wb.download(indicator='NY.GDP.MKTP.CD', country=['US'], start=start, end=end)\n",
    "print(gdp_data)"
   ],
   "outputs": [
    {
     "output_type": "stream",
     "name": "stdout",
     "text": [
      "                    NY.GDP.MKTP.CD\n",
      "country       year                \n",
      "United States 2020  20936600000000\n",
      "              2019  21433224697000\n",
      "              2018  20611860934000\n",
      "              2017  19542979183000\n",
      "              2016  18745075687000\n",
      "              2015  18238300569000\n",
      "              2014  17527163695000\n",
      "              2013  16784849196000\n",
      "              2012  16197007349000\n",
      "              2011  15542581104000\n"
     ]
    }
   ],
   "metadata": {}
  },
  {
   "cell_type": "code",
   "execution_count": 7,
   "source": [
    "export_data = wb.download(indicator='NE.EXP.GNFS.CN', country=['US'], start=start, end=end)\n",
    "print(export_data)"
   ],
   "outputs": [
    {
     "output_type": "stream",
     "name": "stdout",
     "text": [
      "                    NE.EXP.GNFS.CN\n",
      "country       year                \n",
      "United States 2020             NaN\n",
      "              2019    2.514751e+12\n",
      "              2018    2.528704e+12\n",
      "              2017    2.374560e+12\n",
      "              2016    2.227174e+12\n",
      "              2015    2.265862e+12\n",
      "              2014    2.371704e+12\n",
      "              2013    2.273428e+12\n",
      "              2012    2.191280e+12\n",
      "              2011    2.102995e+12\n"
     ]
    }
   ],
   "metadata": {}
  },
  {
   "cell_type": "markdown",
   "source": [
    "Defining a log function to take the difference of Adjusted Close columns "
   ],
   "metadata": {}
  },
  {
   "cell_type": "code",
   "execution_count": 8,
   "source": [
    "def log_return(prices):\n",
    "  return np.log(prices / prices.shift(1))"
   ],
   "outputs": [],
   "metadata": {}
  },
  {
   "cell_type": "code",
   "execution_count": 9,
   "source": [
    "gold_returns = log_return(gold_prices['Adj Close'])\n",
    "print(gold_returns)"
   ],
   "outputs": [
    {
     "output_type": "stream",
     "name": "stdout",
     "text": [
      "0            NaN\n",
      "1       0.000503\n",
      "2       0.007707\n",
      "3      -0.000749\n",
      "4      -0.002627\n",
      "          ...   \n",
      "2512    0.004451\n",
      "2513   -0.001055\n",
      "2514    0.005762\n",
      "2515   -0.002489\n",
      "2516    0.002158\n",
      "Name: Adj Close, Length: 2517, dtype: float64\n"
     ]
    }
   ],
   "metadata": {}
  },
  {
   "cell_type": "code",
   "execution_count": 11,
   "source": [
    "crudeoil_returns = log_return(crude_oil_prices['Adj Close'])\n",
    "print(crudeoil_returns)"
   ],
   "outputs": [
    {
     "output_type": "stream",
     "name": "stdout",
     "text": [
      "0            NaN\n",
      "1       0.016068\n",
      "2      -0.013563\n",
      "3       0.016234\n",
      "4       0.006543\n",
      "          ...   \n",
      "2512   -0.016075\n",
      "2513    0.010197\n",
      "2514    0.021967\n",
      "2515   -0.006189\n",
      "2516    0.015400\n",
      "Name: Adj Close, Length: 2517, dtype: float64\n"
     ]
    }
   ],
   "metadata": {}
  },
  {
   "cell_type": "code",
   "execution_count": 12,
   "source": [
    "nasdaq_returns = log_return(nasdaq_data['NASDAQ100'])\n",
    "print(nasdaq_returns)"
   ],
   "outputs": [
    {
     "output_type": "stream",
     "name": "stdout",
     "text": [
      "DATE\n",
      "2011-07-14         NaN\n",
      "2011-07-15    0.013504\n",
      "2011-07-18   -0.005386\n",
      "2011-07-19    0.022843\n",
      "2011-07-20   -0.004334\n",
      "                ...   \n",
      "2021-07-06         NaN\n",
      "2021-07-07    0.001634\n",
      "2021-07-08   -0.005987\n",
      "2021-07-09    0.007036\n",
      "2021-07-12    0.003488\n",
      "Name: NASDAQ100, Length: 2608, dtype: float64\n"
     ]
    }
   ],
   "metadata": {}
  },
  {
   "cell_type": "code",
   "execution_count": 13,
   "source": [
    "sap_returns = log_return(sap_data['SP500'])\n",
    "print(sap_returns)"
   ],
   "outputs": [
    {
     "output_type": "stream",
     "name": "stdout",
     "text": [
      "DATE\n",
      "2011-07-14         NaN\n",
      "2011-07-15    0.005539\n",
      "2011-07-18   -0.008163\n",
      "2011-07-19    0.016177\n",
      "2011-07-20   -0.000671\n",
      "                ...   \n",
      "2021-07-07    0.003353\n",
      "2021-07-08   -0.008598\n",
      "2021-07-09    0.011215\n",
      "2021-07-12    0.003445\n",
      "2021-07-13   -0.003523\n",
      "Name: SP500, Length: 2609, dtype: float64\n"
     ]
    }
   ],
   "metadata": {}
  },
  {
   "cell_type": "code",
   "execution_count": 14,
   "source": [
    "gdp_growth = log_return(gdp_data['NY.GDP.MKTP.CD'])\n",
    "print(gdp_growth)"
   ],
   "outputs": [
    {
     "output_type": "stream",
     "name": "stdout",
     "text": [
      "country        year\n",
      "United States  2020         NaN\n",
      "               2019    0.023443\n",
      "               2018   -0.039076\n",
      "               2017   -0.053251\n",
      "               2016   -0.041685\n",
      "               2015   -0.027407\n",
      "               2014   -0.039772\n",
      "               2013   -0.043275\n",
      "               2012   -0.035650\n",
      "               2011   -0.041243\n",
      "Name: NY.GDP.MKTP.CD, dtype: float64\n"
     ]
    }
   ],
   "metadata": {}
  },
  {
   "cell_type": "code",
   "execution_count": 15,
   "source": [
    "export_growth = log_return(export_data['NE.EXP.GNFS.CN'])\n",
    "print(export_growth)"
   ],
   "outputs": [
    {
     "output_type": "stream",
     "name": "stdout",
     "text": [
      "country        year\n",
      "United States  2020         NaN\n",
      "               2019         NaN\n",
      "               2018    0.005533\n",
      "               2017   -0.062895\n",
      "               2016   -0.064079\n",
      "               2015    0.017222\n",
      "               2014    0.045653\n",
      "               2013   -0.042320\n",
      "               2012   -0.036803\n",
      "               2011   -0.041123\n",
      "Name: NE.EXP.GNFS.CN, dtype: float64\n"
     ]
    }
   ],
   "metadata": {}
  },
  {
   "cell_type": "markdown",
   "source": [
    "For volatality of prices, we'll use variance as an indicator. The bigger the variance, the more volatile/risker."
   ],
   "metadata": {}
  },
  {
   "cell_type": "code",
   "execution_count": 16,
   "source": [
    "print(\"gold: \", gold_returns.var())\n",
    "print(\"crude oil: \", crudeoil_returns.var())\n",
    "print(\"NASDAQ: \", nasdaq_returns.var())\n",
    "print(\"SP500: \", sap_returns.var())\n",
    "print(\"gdp: \", gdp_growth.var())\n",
    "print(\"export: \", export_growth.var())"
   ],
   "outputs": [
    {
     "output_type": "stream",
     "name": "stdout",
     "text": [
      "gold:  0.00010861443496582016\n",
      "crude oil:  0.0007366352852805804\n",
      "NASDAQ:  0.00016093410325931993\n",
      "SP500:  0.00012296935928281875\n",
      "gdp:  0.0004957359856747983\n",
      "export:  0.0016161622780077776\n"
     ]
    }
   ],
   "metadata": {}
  }
 ],
 "metadata": {
  "orig_nbformat": 4,
  "language_info": {
   "name": "python"
  }
 },
 "nbformat": 4,
 "nbformat_minor": 2
}